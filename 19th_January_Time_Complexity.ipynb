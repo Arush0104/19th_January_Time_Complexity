{
 "cells": [
  {
   "cell_type": "markdown",
   "id": "66a4f8b4",
   "metadata": {},
   "source": [
    "<h3>Find time complexity of below code blocks :</h3>"
   ]
  },
  {
   "cell_type": "code",
   "execution_count": 2,
   "id": "8df00fdd",
   "metadata": {},
   "outputs": [
    {
     "name": "stdout",
     "output_type": "stream",
     "text": [
      "The time complexity of the code is O(nlogn)\n"
     ]
    }
   ],
   "source": [
    "#Question 1\n",
    "print(\"The time complexity of the code is O(nlogn)\")"
   ]
  },
  {
   "cell_type": "code",
   "execution_count": 3,
   "id": "36e84da6",
   "metadata": {},
   "outputs": [
    {
     "name": "stdout",
     "output_type": "stream",
     "text": [
      "The time complexity of the code is O(n^2)\n"
     ]
    }
   ],
   "source": [
    "#Question 2\n",
    "print(\"The time complexity of the code is O(n^2)\") "
   ]
  },
  {
   "cell_type": "code",
   "execution_count": 4,
   "id": "0db83358",
   "metadata": {},
   "outputs": [
    {
     "name": "stdout",
     "output_type": "stream",
     "text": [
      "The time complexity of the code is O(n^2)\n"
     ]
    }
   ],
   "source": [
    "#Question 3\n",
    "print(\"The time complexity of the code is O(n^2)\") "
   ]
  },
  {
   "cell_type": "code",
   "execution_count": 5,
   "id": "3eec9074",
   "metadata": {},
   "outputs": [
    {
     "name": "stdout",
     "output_type": "stream",
     "text": [
      "The time complexity of the code is O(n^2)\n"
     ]
    }
   ],
   "source": [
    "#Question 4\n",
    "print(\"The time complexity of the code is O(n^2)\") "
   ]
  },
  {
   "cell_type": "code",
   "execution_count": 6,
   "id": "59ea0cc2",
   "metadata": {},
   "outputs": [
    {
     "name": "stdout",
     "output_type": "stream",
     "text": [
      "The time complexity of the code is O(n^2)\n"
     ]
    }
   ],
   "source": [
    "#Question 5\n",
    "print(\"The time complexity of the code is O(n^2)\") "
   ]
  },
  {
   "cell_type": "markdown",
   "id": "04c313e0",
   "metadata": {},
   "source": [
    "<h3>Solve the following problems on recursion</h3>"
   ]
  },
  {
   "cell_type": "markdown",
   "id": "5ae746ad",
   "metadata": {},
   "source": []
  }
 ],
 "metadata": {
  "kernelspec": {
   "display_name": "Python 3 (ipykernel)",
   "language": "python",
   "name": "python3"
  },
  "language_info": {
   "codemirror_mode": {
    "name": "ipython",
    "version": 3
   },
   "file_extension": ".py",
   "mimetype": "text/x-python",
   "name": "python",
   "nbconvert_exporter": "python",
   "pygments_lexer": "ipython3",
   "version": "3.12.2"
  }
 },
 "nbformat": 4,
 "nbformat_minor": 5
}
